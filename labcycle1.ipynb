{
  "nbformat": 4,
  "nbformat_minor": 0,
  "metadata": {
    "colab": {
      "provenance": []
    },
    "kernelspec": {
      "name": "python3",
      "display_name": "Python 3"
    },
    "language_info": {
      "name": "python"
    }
  },
  "cells": [
    {
      "cell_type": "markdown",
      "source": [
        "pgm 1"
      ],
      "metadata": {
        "id": "V6g3gWijkR2M"
      }
    },
    {
      "cell_type": "code",
      "execution_count": null,
      "metadata": {
        "colab": {
          "base_uri": "https://localhost:8080/"
        },
        "id": "_dkk7JkIavxL",
        "outputId": "f41d5e6a-8f58-4381-8958-0ff5d78cb789"
      },
      "outputs": [
        {
          "output_type": "stream",
          "name": "stdout",
          "text": [
            "enter a four digit number : 5678\n",
            "sum of the number is  26\n",
            "reverse of the number is  8765\n",
            "difference  is  -21\n"
          ]
        }
      ],
      "source": [
        "num=int(input(\"enter a four digit number : \"))\n",
        "rev=0\n",
        "sum=0\n",
        "diff=0\n",
        "ones=num%10\n",
        "ten=(num%100)//10\n",
        "hund=(num%1000)//100\n",
        "thous=(num//1000)\n",
        "sum=ones+ten+hund+thous\n",
        "diff=(thous*ten)-(ten*ones)\n",
        "rev=(ones*1000)+(ten*100)+(hund*10)+(thous)\n",
        "\n",
        "print(\"sum of the number is \",sum)\n",
        "print(\"reverse of the number is \",rev)\n",
        "print(\"difference  is \",diff)\n"
      ]
    },
    {
      "cell_type": "markdown",
      "source": [
        "pgm 2"
      ],
      "metadata": {
        "id": "ck5zbi_crEXm"
      }
    },
    {
      "cell_type": "code",
      "source": [
        "def get():\n",
        "    p = int(input(\"enter the side of triangle A: \"))\n",
        "    q = int(input(\"enter the side of triangle B: \"))\n",
        "    r = int(input(\"enter the side of triangle C: \"))\n",
        "    return p, q, r\n",
        "\n",
        "def area(p, q, r):\n",
        "    s = (p + q + r) / 2\n",
        "    a = (s * (s - p) * (s - q) * (s - r))**0.5\n",
        "    return a\n",
        "\n",
        "print(\"Enter the sides of triangle A\")\n",
        "p, q, r = get()\n",
        "areaA = area(p, q, r)\n",
        "print(\"Area of triangle A:\", areaA)\n",
        "\n",
        "print(\"\\nEnter the sides of triangle B\")\n",
        "x, y, z = get()\n",
        "areaB = area(x, y, z)\n",
        "print(\"Area of triangle B:\", areaB)\n",
        "\n",
        "totalarea = areaA + areaB\n",
        "perofA = (areaA / totalarea) * 100\n",
        "perofB = (areaB / totalarea) * 100\n",
        "\n",
        "print(\"\\nTotal area of triangles:\", totalarea)\n",
        "print(\"Percentage of contribution of triangle A:\", perofA)\n",
        "print(\"Percentage of contribution of triangle B:\", perofB)\n"
      ],
      "metadata": {
        "colab": {
          "base_uri": "https://localhost:8080/"
        },
        "id": "-qTz95H98f4W",
        "outputId": "58f81f76-8450-44aa-ab09-0689076f3cb0"
      },
      "execution_count": null,
      "outputs": [
        {
          "output_type": "stream",
          "name": "stdout",
          "text": [
            "Enter the sides of triangle A\n",
            "enter the side of triangle A: 3\n",
            "enter the side of triangle B: 4\n",
            "enter the side of triangle C: 5\n",
            "Area of triangle A: 6.0\n",
            "\n",
            "Enter the sides of triangle B\n",
            "enter the side of triangle A: 12\n",
            "enter the side of triangle B: 5\n",
            "enter the side of triangle C: 13\n",
            "Area of triangle B: 30.0\n",
            "\n",
            "Total area of triangles: 36.0\n",
            "Percentage of contribution of triangle A: 16.666666666666664\n",
            "Percentage of contribution of triangle B: 83.33333333333334\n"
          ]
        }
      ]
    },
    {
      "cell_type": "markdown",
      "source": [
        "pgm 3"
      ],
      "metadata": {
        "id": "TOywQHQN-XR1"
      }
    },
    {
      "cell_type": "code",
      "source": [
        "\n",
        "\n",
        "\n",
        "name=(input(\"Enter your name: \"))\n",
        "id=(input(\"Enter your employee code: \"))\n",
        "basicpay=int(input(\"Enter your salary: \"))\n",
        "if(basicpay<10000):\n",
        "    da=basicpay*(0.05)\n",
        "    hra=basicpay*(0.025)\n",
        "    ma=500\n",
        "    pt=20\n",
        "    pf=basicpay*(0.08)\n",
        "    it=0\n",
        "elif(basicpay<30000):\n",
        "    da=basicpay*(0.075)\n",
        "    hra=basicpay*(0.05)\n",
        "    ma=2500\n",
        "    pt=60\n",
        "    pf=basicpay*(0.08)\n",
        "    it=0\n",
        "elif(basicpay<50000):\n",
        "  da=basicpay*(0.11)\n",
        "  hra=basicpay*(0.075)\n",
        "  ma=5000\n",
        "  pt=60\n",
        "  pf=basicpay*(0.11)\n",
        "  it=basicpay*(0.11)\n",
        "else:\n",
        "   da=basicpay*(0.25)\n",
        "   hra=basicpay*(0.11)\n",
        "   ma=7000\n",
        "   pt=80\n",
        "   pf=basicpay*(0.12)\n",
        "   it=basicpay*(0.2)\n",
        "\n",
        "def gross(basicpay,da,hra,ma):\n",
        "   gs= basicpay+da+hra+ma\n",
        "   return gs\n",
        "def ded(pt,pf,it):\n",
        "  d= pt+pf+it\n",
        "  return d\n",
        "def netsalary(gs,d):\n",
        "  netsalary=gs-d\n",
        "  return netsalary\n",
        "\n",
        "gross_salary = gross(basicpay, da, hra, ma)\n",
        "deduction = ded(pt, pf, it)\n",
        "net_salary = netsalary(gross_salary, deduction)\n",
        "\n",
        "print(\"Employee name: \",name)\n",
        "print(\"Employee id: \",id)\n",
        "print(\"Gross salary: \",gross_salary)\n",
        "print(\"Deduction: \",deduction)\n",
        "print(\"Net salary: \",net_salary)\n",
        "\n"
      ],
      "metadata": {
        "colab": {
          "base_uri": "https://localhost:8080/"
        },
        "id": "jnOxUmrHrBMe",
        "outputId": "77b5d082-6565-4bce-ace3-d651339a1032"
      },
      "execution_count": null,
      "outputs": [
        {
          "output_type": "stream",
          "name": "stdout",
          "text": [
            "Enter your name: rana\n",
            "Enter your employee code: 1234\n",
            "Enter your salary: 45000\n",
            "Employee name:  rana\n",
            "Employee id:  1234\n",
            "Gross salary:  58325.0\n",
            "Deduction:  9960.0\n",
            "Net salary:  48365.0\n"
          ]
        }
      ]
    },
    {
      "cell_type": "markdown",
      "source": [
        "pgm 4"
      ],
      "metadata": {
        "id": "AljNxG9t6t3r"
      }
    },
    {
      "cell_type": "code",
      "source": [
        "\n",
        "def check_number(n):\n",
        "  for i in range(1,101):\n",
        "    sum=0\n",
        "    while (n>0):\n",
        "      remainder=n%10\n",
        "      sum+=(remainder**2)\n",
        "      n=n//10\n",
        "    if (sum==1):\n",
        "      return True\n",
        "    elif(n<1):\n",
        "      n=sum\n",
        "    else:\n",
        "      return False\n",
        "\n",
        "\n",
        "def In_range(lower,upper):\n",
        "  count=0\n",
        "  for i in range(lower,upper):\n",
        "    if check_number(i)==True:\n",
        "      count+=1\n",
        "      print(i)\n",
        "  if count==0:\n",
        "    print(\" no happy numbers in this range\")\n",
        "\n",
        "\n",
        "def print_happyno(a):\n",
        "  count=0\n",
        "  i=1\n",
        "  while(count!=a):\n",
        "    if check_number(i)==True:\n",
        "      print(i)\n",
        "      count+=1\n",
        "    i+=1\n",
        "\n",
        "    if count==a:\n",
        "      break\n",
        "\n",
        "n=int(input(\"Enter the number  to check: \"))\n",
        "if (check_number(n)==True):\n",
        "  print(\"It's a happy number.\")\n",
        "else:\n",
        "  print(\"It's a sad number.\")\n",
        "\n",
        "lower=int(input(\"Enter the lower limit of range: \"))\n",
        "upper=int(input(\"Enter the upper limit of range: \"))\n",
        "In_range(lower,upper)\n",
        "\n",
        "input_no=int(input(\"Enter the number of happy numbers to be printed: \"))\n",
        "print_happyno(input_no)\n"
      ],
      "metadata": {
        "colab": {
          "base_uri": "https://localhost:8080/"
        },
        "id": "rU28xrNQALJt",
        "outputId": "247093d5-8e14-4ef9-9ed2-c8dadfc4734a"
      },
      "execution_count": null,
      "outputs": [
        {
          "output_type": "stream",
          "name": "stdout",
          "text": [
            "Enter the number  to check: 82\n",
            "It's a happy number.\n",
            "Enter the lower limit of range: 12\n",
            "Enter the upper limit of range: 54\n",
            "13\n",
            "19\n",
            "23\n",
            "28\n",
            "31\n",
            "32\n",
            "44\n",
            "49\n",
            "Enter the number of happy numbers to be printed: 12\n",
            "1\n",
            "7\n",
            "10\n",
            "13\n",
            "19\n",
            "23\n",
            "28\n",
            "31\n",
            "32\n",
            "44\n",
            "49\n",
            "68\n"
          ]
        }
      ]
    },
    {
      "cell_type": "markdown",
      "source": [
        "pgm 5"
      ],
      "metadata": {
        "id": "A05ae79vCewg"
      }
    },
    {
      "cell_type": "code",
      "source": [
        "\n",
        "\n",
        "def print_substrings(string):\n",
        "    number = len(string)\n",
        "    for i in range(number):\n",
        "        for j in range(i+1,number+1):\n",
        "            print(string[i:j])\n",
        "\n",
        "def print_substrings_len_k(string, k):\n",
        "    number = len(string)\n",
        "    if k<=0 or k>number:\n",
        "        print(\"Invalid length.\")\n",
        "        return\n",
        "\n",
        "    for i in range(number-k+1):\n",
        "        substring = string[i:i +k]\n",
        "        print(substring)\n",
        "\n",
        "def print_substrings_len_k_distinct(string, k):\n",
        "    number = len(string)\n",
        "    if k<=0 or k>number:\n",
        "        print(\"Invalid length.\")\n",
        "        return\n",
        "\n",
        "    for i in range(number-k+1):\n",
        "        substring = string[i:i +k]\n",
        "        if len(set(substring)) == k:\n",
        "            print(substring)\n",
        "\n",
        "\n",
        "def print_max_length_substrings_distinct(string, number):\n",
        "    max_length = 0\n",
        "    max_substrings = []\n",
        "\n",
        "    for i in range(len(string)):\n",
        "        chars_set = set()\n",
        "        current_length = 0\n",
        "        current_substring = \"\"\n",
        "\n",
        "        for j in range(i, len(string)):\n",
        "            if string[j] not in chars_set:\n",
        "                chars_set.add(string[j])\n",
        "                current_length += 1\n",
        "                current_substring += string[j]\n",
        "\n",
        "                # Check if the number of distinct characters exceeds the limit\n",
        "                if len(chars_set) > number:\n",
        "                    break\n",
        "            else:\n",
        "                break\n",
        "\n",
        "        if current_length > max_length:\n",
        "            max_length = current_length\n",
        "            max_substrings = [current_substring]\n",
        "        elif current_length == max_length:\n",
        "            max_substrings.append(current_substring)\n",
        "\n",
        "            print(f\"Maximum length substrings with {number} distinct characters:\")\n",
        "    for substring in max_substrings:\n",
        "        print(substring)\n",
        "\n",
        "\n",
        "def is_palindrome(string):\n",
        "    return string == string[::-1]\n",
        "\n",
        "def print_palindrome(string):\n",
        "    number = len(string)\n",
        "    for i in range(number):\n",
        "        for j in range(i + 1, number + 1):\n",
        "            substring = string[i:j]\n",
        "            if is_palindrome(substring):\n",
        "                print(substring)\n",
        "\n",
        "\n",
        "string = str(input(\"Enter a string: \"))\n",
        "\n",
        "print(\"All possible substrings:\")\n",
        "print_substrings(string)\n",
        "\n",
        "k = int(input(\"Enter the length of substrings (K): \"))\n",
        "print(f\"All possible substrings of length {k}:\")\n",
        "print_substrings_len_k(string, k)\n",
        "\n",
        "number = int(input(\"Enter the length of substrings (K) with N distinct characters: \"))\n",
        "print(f\"All substrings of length {number} with {number} distinct characters:\")\n",
        "print_substrings_len_k_distinct(string, number)\n",
        "\n",
        "d = int(input(\"Enter the number of distinct characters (N): \"))\n",
        "print_max_length_substrings_distinct(string, d)\n",
        "\n",
        "print(\"All palindrome substrings:\")\n",
        "print_palindrome(string)"
      ],
      "metadata": {
        "colab": {
          "base_uri": "https://localhost:8080/"
        },
        "id": "aoWTzhxbChUO",
        "outputId": "b4d560bc-bc26-4199-bc7a-819582b174a9"
      },
      "execution_count": null,
      "outputs": [
        {
          "output_type": "stream",
          "name": "stdout",
          "text": [
            "Enter a string: heart\n",
            "All possible substrings:\n",
            "h\n",
            "he\n",
            "hea\n",
            "hear\n",
            "heart\n",
            "e\n",
            "ea\n",
            "ear\n",
            "eart\n",
            "a\n",
            "ar\n",
            "art\n",
            "r\n",
            "rt\n",
            "t\n",
            "Enter the length of substrings (K): 3\n",
            "All possible substrings of length 3:\n",
            "hea\n",
            "ear\n",
            "art\n",
            "Enter the length of substrings (K) with N distinct characters: 2\n",
            "All substrings of length 2 with 2 distinct characters:\n",
            "he\n",
            "ea\n",
            "ar\n",
            "rt\n",
            "Enter the number of distinct characters (N): 3\n",
            "Maximum length substrings with 3 distinct characters:\n",
            "hear\n",
            "eart\n",
            "All palindrome substrings:\n",
            "h\n",
            "e\n",
            "a\n",
            "r\n",
            "t\n"
          ]
        }
      ]
    }
  ]
}